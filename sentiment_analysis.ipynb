{
  "cells": [
    {
      "cell_type": "markdown",
      "id": "bXN2CKifs1kH",
      "metadata": {
        "id": "bXN2CKifs1kH"
      },
      "source": [
        "Reference:\n",
        "\n",
        "https://scikit-learn.org/stable/modules/generated/sklearn.linear_model.Perceptron.html\n",
        "https://scikit-learn.org/stable/modules/sgd.html\n",
        "https://scikit-learn.org/stable/modules/generated/sklearn.ensemble.RandomForestClassifier.html\n",
        "https://scikit-learn.org/stable/modules/generated/sklearn.linear_model.LinearRegression.html\n",
        "https://github.com/leelaylay/TweetSemEval\n",
        "https://towardsdatascience.com/yet-another-twitter-sentiment-analysis-part-1-tackling-class-imbalance-4d7a7f717d44\n",
        "https://github.com/cbaziotis/datastories-semeval2017-task4\n"
      ]
    },
    {
      "cell_type": "code",
      "execution_count": null,
      "id": "61399bd8",
      "metadata": {
        "id": "61399bd8"
      },
      "outputs": [],
      "source": [
        "import pandas as pd\n",
        "import numpy as np\n",
        "import matplotlib.pyplot as plt\n",
        "plt.style.use('fivethirtyeight')\n",
        "%matplotlib inline\n",
        "%config InlineBackend.figure_format = 'retina'"
      ]
    },
    {
      "cell_type": "code",
      "execution_count": null,
      "id": "Jta1VES4XYak",
      "metadata": {
        "colab": {
          "base_uri": "https://localhost:8080/"
        },
        "id": "Jta1VES4XYak",
        "outputId": "9ff0e86a-6ca5-4deb-b223-43e31a10d21b"
      },
      "outputs": [
        {
          "name": "stdout",
          "output_type": "stream",
          "text": [
            "Collecting emoji\n",
            "  Downloading emoji-1.6.1.tar.gz (170 kB)\n",
            "\u001b[?25l\r\u001b[K     |██                              | 10 kB 23.8 MB/s eta 0:00:01\r\u001b[K     |███▉                            | 20 kB 11.5 MB/s eta 0:00:01\r\u001b[K     |█████▉                          | 30 kB 9.1 MB/s eta 0:00:01\r\u001b[K     |███████▊                        | 40 kB 8.5 MB/s eta 0:00:01\r\u001b[K     |█████████▋                      | 51 kB 5.3 MB/s eta 0:00:01\r\u001b[K     |███████████▋                    | 61 kB 5.5 MB/s eta 0:00:01\r\u001b[K     |█████████████▌                  | 71 kB 5.3 MB/s eta 0:00:01\r\u001b[K     |███████████████▍                | 81 kB 5.9 MB/s eta 0:00:01\r\u001b[K     |█████████████████▍              | 92 kB 6.0 MB/s eta 0:00:01\r\u001b[K     |███████████████████▎            | 102 kB 5.0 MB/s eta 0:00:01\r\u001b[K     |█████████████████████▏          | 112 kB 5.0 MB/s eta 0:00:01\r\u001b[K     |███████████████████████▏        | 122 kB 5.0 MB/s eta 0:00:01\r\u001b[K     |█████████████████████████       | 133 kB 5.0 MB/s eta 0:00:01\r\u001b[K     |███████████████████████████     | 143 kB 5.0 MB/s eta 0:00:01\r\u001b[K     |█████████████████████████████   | 153 kB 5.0 MB/s eta 0:00:01\r\u001b[K     |██████████████████████████████▉ | 163 kB 5.0 MB/s eta 0:00:01\r\u001b[K     |████████████████████████████████| 170 kB 5.0 MB/s \n",
            "\u001b[?25hBuilding wheels for collected packages: emoji\n",
            "  Building wheel for emoji (setup.py) ... \u001b[?25l\u001b[?25hdone\n",
            "  Created wheel for emoji: filename=emoji-1.6.1-py3-none-any.whl size=169313 sha256=ff65e34af1c5d42f34a5ef72488a2118122b0bb04a6231220019854553fa8c2d\n",
            "  Stored in directory: /root/.cache/pip/wheels/ea/5f/d3/03d313ddb3c2a1a427bb4690f1621eea60fe6f2a30cc95940f\n",
            "Successfully built emoji\n",
            "Installing collected packages: emoji\n",
            "Successfully installed emoji-1.6.1\n"
          ]
        }
      ],
      "source": [
        "pip install emoji\n"
      ]
    },
    {
      "cell_type": "code",
      "execution_count": null,
      "id": "JHMGINpt5XTL",
      "metadata": {
        "colab": {
          "base_uri": "https://localhost:8080/"
        },
        "id": "JHMGINpt5XTL",
        "outputId": "90c62fa6-e045-47b5-dccf-a4ae20b4f669"
      },
      "outputs": [
        {
          "name": "stdout",
          "output_type": "stream",
          "text": [
            "Collecting unidecode\n",
            "  Downloading Unidecode-1.3.2-py3-none-any.whl (235 kB)\n",
            "\u001b[?25l\r\u001b[K     |█▍                              | 10 kB 19.9 MB/s eta 0:00:01\r\u001b[K     |██▉                             | 20 kB 14.5 MB/s eta 0:00:01\r\u001b[K     |████▏                           | 30 kB 10.1 MB/s eta 0:00:01\r\u001b[K     |█████▋                          | 40 kB 8.7 MB/s eta 0:00:01\r\u001b[K     |███████                         | 51 kB 5.0 MB/s eta 0:00:01\r\u001b[K     |████████▍                       | 61 kB 5.3 MB/s eta 0:00:01\r\u001b[K     |█████████▊                      | 71 kB 5.6 MB/s eta 0:00:01\r\u001b[K     |███████████▏                    | 81 kB 6.2 MB/s eta 0:00:01\r\u001b[K     |████████████▌                   | 92 kB 4.7 MB/s eta 0:00:01\r\u001b[K     |██████████████                  | 102 kB 5.0 MB/s eta 0:00:01\r\u001b[K     |███████████████▎                | 112 kB 5.0 MB/s eta 0:00:01\r\u001b[K     |████████████████▊               | 122 kB 5.0 MB/s eta 0:00:01\r\u001b[K     |██████████████████              | 133 kB 5.0 MB/s eta 0:00:01\r\u001b[K     |███████████████████▌            | 143 kB 5.0 MB/s eta 0:00:01\r\u001b[K     |████████████████████▉           | 153 kB 5.0 MB/s eta 0:00:01\r\u001b[K     |██████████████████████▎         | 163 kB 5.0 MB/s eta 0:00:01\r\u001b[K     |███████████████████████▋        | 174 kB 5.0 MB/s eta 0:00:01\r\u001b[K     |█████████████████████████       | 184 kB 5.0 MB/s eta 0:00:01\r\u001b[K     |██████████████████████████▍     | 194 kB 5.0 MB/s eta 0:00:01\r\u001b[K     |███████████████████████████▉    | 204 kB 5.0 MB/s eta 0:00:01\r\u001b[K     |█████████████████████████████▏  | 215 kB 5.0 MB/s eta 0:00:01\r\u001b[K     |██████████████████████████████▋ | 225 kB 5.0 MB/s eta 0:00:01\r\u001b[K     |████████████████████████████████| 235 kB 5.0 MB/s eta 0:00:01\r\u001b[K     |████████████████████████████████| 235 kB 5.0 MB/s \n",
            "\u001b[?25hInstalling collected packages: unidecode\n",
            "Successfully installed unidecode-1.3.2\n"
          ]
        }
      ],
      "source": [
        "pip install unidecode"
      ]
    },
    {
      "cell_type": "code",
      "execution_count": null,
      "id": "43403071",
      "metadata": {
        "colab": {
          "base_uri": "https://localhost:8080/",
          "height": 206
        },
        "id": "43403071",
        "outputId": "b0915782-6ace-4adc-b1ef-7d9d1480c597"
      },
      "outputs": [
        {
          "data": {
            "text/html": [
              "\n",
              "  <div id=\"df-3f319c46-7fe9-4b2b-9c9e-9df7e0a8fd96\">\n",
              "    <div class=\"colab-df-container\">\n",
              "      <div>\n",
              "<style scoped>\n",
              "    .dataframe tbody tr th:only-of-type {\n",
              "        vertical-align: middle;\n",
              "    }\n",
              "\n",
              "    .dataframe tbody tr th {\n",
              "        vertical-align: top;\n",
              "    }\n",
              "\n",
              "    .dataframe thead th {\n",
              "        text-align: right;\n",
              "    }\n",
              "</style>\n",
              "<table border=\"1\" class=\"dataframe\">\n",
              "  <thead>\n",
              "    <tr style=\"text-align: right;\">\n",
              "      <th></th>\n",
              "      <th>id</th>\n",
              "      <th>sentiment</th>\n",
              "      <th>text</th>\n",
              "    </tr>\n",
              "  </thead>\n",
              "  <tbody>\n",
              "    <tr>\n",
              "      <th>41700</th>\n",
              "      <td>103158179306807296</td>\n",
              "      <td>positive</td>\n",
              "      <td>RT @MNFootNg It's monday and Monday Night Foot...</td>\n",
              "    </tr>\n",
              "    <tr>\n",
              "      <th>41701</th>\n",
              "      <td>103157324096618497</td>\n",
              "      <td>positive</td>\n",
              "      <td>All I know is the road for that Lomardi start ...</td>\n",
              "    </tr>\n",
              "    <tr>\n",
              "      <th>41702</th>\n",
              "      <td>100259220338905089</td>\n",
              "      <td>neutral</td>\n",
              "      <td>All Blue and White fam, we r meeting at Golden...</td>\n",
              "    </tr>\n",
              "    <tr>\n",
              "      <th>41703</th>\n",
              "      <td>104230318525001729</td>\n",
              "      <td>positive</td>\n",
              "      <td>@DariusButler28   Have a great game agaist Tam...</td>\n",
              "    </tr>\n",
              "    <tr>\n",
              "      <th>41704</th>\n",
              "      <td>100461938533863424</td>\n",
              "      <td>negative</td>\n",
              "      <td>I'm pisseeedddd that I missed Kid Cudi's show ...</td>\n",
              "    </tr>\n",
              "  </tbody>\n",
              "</table>\n",
              "</div>\n",
              "      <button class=\"colab-df-convert\" onclick=\"convertToInteractive('df-3f319c46-7fe9-4b2b-9c9e-9df7e0a8fd96')\"\n",
              "              title=\"Convert this dataframe to an interactive table.\"\n",
              "              style=\"display:none;\">\n",
              "        \n",
              "  <svg xmlns=\"http://www.w3.org/2000/svg\" height=\"24px\"viewBox=\"0 0 24 24\"\n",
              "       width=\"24px\">\n",
              "    <path d=\"M0 0h24v24H0V0z\" fill=\"none\"/>\n",
              "    <path d=\"M18.56 5.44l.94 2.06.94-2.06 2.06-.94-2.06-.94-.94-2.06-.94 2.06-2.06.94zm-11 1L8.5 8.5l.94-2.06 2.06-.94-2.06-.94L8.5 2.5l-.94 2.06-2.06.94zm10 10l.94 2.06.94-2.06 2.06-.94-2.06-.94-.94-2.06-.94 2.06-2.06.94z\"/><path d=\"M17.41 7.96l-1.37-1.37c-.4-.4-.92-.59-1.43-.59-.52 0-1.04.2-1.43.59L10.3 9.45l-7.72 7.72c-.78.78-.78 2.05 0 2.83L4 21.41c.39.39.9.59 1.41.59.51 0 1.02-.2 1.41-.59l7.78-7.78 2.81-2.81c.8-.78.8-2.07 0-2.86zM5.41 20L4 18.59l7.72-7.72 1.47 1.35L5.41 20z\"/>\n",
              "  </svg>\n",
              "      </button>\n",
              "      \n",
              "  <style>\n",
              "    .colab-df-container {\n",
              "      display:flex;\n",
              "      flex-wrap:wrap;\n",
              "      gap: 12px;\n",
              "    }\n",
              "\n",
              "    .colab-df-convert {\n",
              "      background-color: #E8F0FE;\n",
              "      border: none;\n",
              "      border-radius: 50%;\n",
              "      cursor: pointer;\n",
              "      display: none;\n",
              "      fill: #1967D2;\n",
              "      height: 32px;\n",
              "      padding: 0 0 0 0;\n",
              "      width: 32px;\n",
              "    }\n",
              "\n",
              "    .colab-df-convert:hover {\n",
              "      background-color: #E2EBFA;\n",
              "      box-shadow: 0px 1px 2px rgba(60, 64, 67, 0.3), 0px 1px 3px 1px rgba(60, 64, 67, 0.15);\n",
              "      fill: #174EA6;\n",
              "    }\n",
              "\n",
              "    [theme=dark] .colab-df-convert {\n",
              "      background-color: #3B4455;\n",
              "      fill: #D2E3FC;\n",
              "    }\n",
              "\n",
              "    [theme=dark] .colab-df-convert:hover {\n",
              "      background-color: #434B5C;\n",
              "      box-shadow: 0px 1px 3px 1px rgba(0, 0, 0, 0.15);\n",
              "      filter: drop-shadow(0px 1px 2px rgba(0, 0, 0, 0.3));\n",
              "      fill: #FFFFFF;\n",
              "    }\n",
              "  </style>\n",
              "\n",
              "      <script>\n",
              "        const buttonEl =\n",
              "          document.querySelector('#df-3f319c46-7fe9-4b2b-9c9e-9df7e0a8fd96 button.colab-df-convert');\n",
              "        buttonEl.style.display =\n",
              "          google.colab.kernel.accessAllowed ? 'block' : 'none';\n",
              "\n",
              "        async function convertToInteractive(key) {\n",
              "          const element = document.querySelector('#df-3f319c46-7fe9-4b2b-9c9e-9df7e0a8fd96');\n",
              "          const dataTable =\n",
              "            await google.colab.kernel.invokeFunction('convertToInteractive',\n",
              "                                                     [key], {});\n",
              "          if (!dataTable) return;\n",
              "\n",
              "          const docLinkHtml = 'Like what you see? Visit the ' +\n",
              "            '<a target=\"_blank\" href=https://colab.research.google.com/notebooks/data_table.ipynb>data table notebook</a>'\n",
              "            + ' to learn more about interactive tables.';\n",
              "          element.innerHTML = '';\n",
              "          dataTable['output_type'] = 'display_data';\n",
              "          await google.colab.output.renderOutput(dataTable, element);\n",
              "          const docLink = document.createElement('div');\n",
              "          docLink.innerHTML = docLinkHtml;\n",
              "          element.appendChild(docLink);\n",
              "        }\n",
              "      </script>\n",
              "    </div>\n",
              "  </div>\n",
              "  "
            ],
            "text/plain": [
              "                       id  ...                                               text\n",
              "41700  103158179306807296  ...  RT @MNFootNg It's monday and Monday Night Foot...\n",
              "41701  103157324096618497  ...  All I know is the road for that Lomardi start ...\n",
              "41702  100259220338905089  ...  All Blue and White fam, we r meeting at Golden...\n",
              "41703  104230318525001729  ...  @DariusButler28   Have a great game agaist Tam...\n",
              "41704  100461938533863424  ...  I'm pisseeedddd that I missed Kid Cudi's show ...\n",
              "\n",
              "[5 rows x 3 columns]"
            ]
          },
          "execution_count": 4,
          "metadata": {},
          "output_type": "execute_result"
        }
      ],
      "source": [
        "import glob\n",
        "all_files = glob.glob(\"twitter*.tsv\")\n",
        "frame = pd.DataFrame()\n",
        "list_ = []\n",
        "for file_ in all_files:\n",
        "    df = pd.read_csv(file_,index_col=None, sep='\\t', header=None, names=['id','sentiment','text','to_delete'])\n",
        "    list_.append(df.iloc[:,:-1])\n",
        "df = pd.concat(list_)\n",
        "df = df.drop_duplicates()\n",
        "df = df.reset_index(drop=True)\n",
        "df.tail()"
      ]
    },
    {
      "cell_type": "markdown",
      "id": "e6a5ccdc",
      "metadata": {
        "id": "e6a5ccdc"
      },
      "source": [
        "Therea are 41705  tweets in the dataset"
      ]
    },
    {
      "cell_type": "code",
      "execution_count": null,
      "id": "cb8dcabf",
      "metadata": {
        "colab": {
          "base_uri": "https://localhost:8080/"
        },
        "id": "cb8dcabf",
        "outputId": "d153adc4-9e77-4e12-b676-b91f40030d15"
      },
      "outputs": [
        {
          "name": "stdout",
          "output_type": "stream",
          "text": [
            "<class 'pandas.core.frame.DataFrame'>\n",
            "RangeIndex: 41705 entries, 0 to 41704\n",
            "Data columns (total 3 columns):\n",
            " #   Column     Non-Null Count  Dtype \n",
            "---  ------     --------------  ----- \n",
            " 0   id         41705 non-null  int64 \n",
            " 1   sentiment  41705 non-null  object\n",
            " 2   text       41705 non-null  object\n",
            "dtypes: int64(1), object(2)\n",
            "memory usage: 977.6+ KB\n"
          ]
        }
      ],
      "source": [
        "df.info()"
      ]
    },
    {
      "cell_type": "code",
      "execution_count": null,
      "id": "mHfKG2KdLtgB",
      "metadata": {
        "colab": {
          "base_uri": "https://localhost:8080/"
        },
        "id": "mHfKG2KdLtgB",
        "outputId": "b117fda0-8e46-410a-d040-b41ec152f788"
      },
      "outputs": [
        {
          "data": {
            "text/plain": [
              "53"
            ]
          },
          "execution_count": 6,
          "metadata": {},
          "output_type": "execute_result"
        }
      ],
      "source": [
        "df['token_length'] = [len(x.split(\" \")) for x in df.text]\n",
        "max(df.token_length)"
      ]
    },
    {
      "cell_type": "code",
      "execution_count": null,
      "id": "rP1SBnL-QoD6",
      "metadata": {
        "colab": {
          "base_uri": "https://localhost:8080/",
          "height": 35
        },
        "id": "rP1SBnL-QoD6",
        "outputId": "6561f0fd-265b-4191-9859-b0a417ae1ef0"
      },
      "outputs": [
        {
          "data": {
            "application/vnd.google.colaboratory.intrinsic+json": {
              "type": "string"
            },
            "text/plain": [
              "'NO. 108 UN JORIT MAR DALA ZAYUN                                  (Watchman on the Walls of Zion) Doh is C  1. Un... http://t.co/gNu3AzZ6qH'"
            ]
          },
          "execution_count": 7,
          "metadata": {},
          "output_type": "execute_result"
        }
      ],
      "source": [
        "df.loc[df.token_length.idxmax(),'text']\n"
      ]
    },
    {
      "cell_type": "code",
      "execution_count": null,
      "id": "81e906d7",
      "metadata": {
        "colab": {
          "base_uri": "https://localhost:8080/"
        },
        "id": "81e906d7",
        "outputId": "97e0a74e-375a-4799-9a87-7810b630ffee"
      },
      "outputs": [
        {
          "data": {
            "text/plain": [
              "neutral     19466\n",
              "positive    15754\n",
              "negative     6485\n",
              "Name: sentiment, dtype: int64"
            ]
          },
          "execution_count": 8,
          "metadata": {},
          "output_type": "execute_result"
        }
      ],
      "source": [
        "df.sentiment.value_counts()"
      ]
    },
    {
      "cell_type": "markdown",
      "id": "421d9d43",
      "metadata": {
        "id": "421d9d43"
      },
      "source": [
        "# Data Cleaning"
      ]
    },
    {
      "cell_type": "markdown",
      "id": "a3060f47",
      "metadata": {
        "id": "a3060f47"
      },
      "source": [
        "## Spell Correlction \n",
        "it is a simple spell correction dealing with repeated characters such as “sooooo goooood”. If the same character is repeated more than two times, it shortens the repetition to two. For example “sooooo goooood” will be transformed as “soo good”. This is not a perfect solution since even after correction, in case of “soo”, it is not a correct spelling. But at least it will help to reduce feature space by making “sooo”, “soooo”, “sooooo” to the same word “soo”"
      ]
    },
    {
      "cell_type": "code",
      "execution_count": null,
      "id": "d00d89ca",
      "metadata": {
        "id": "d00d89ca"
      },
      "outputs": [],
      "source": [
        "contraction_mapping = {\"ain't\": \"is not\", \"aren't\": \"are not\",\"can't\": \"cannot\", \n",
        "                   \"can't've\": \"cannot have\", \"'cause\": \"because\", \"could've\": \"could have\", \n",
        "                   \"couldn't\": \"could not\", \"couldn't've\": \"could not have\",\"didn't\": \"did not\", \n",
        "                   \"doesn't\": \"does not\", \"don't\": \"do not\", \"hadn't\": \"had not\", \n",
        "                   \"hadn't've\": \"had not have\", \"hasn't\": \"has not\", \"haven't\": \"have not\", \n",
        "                   \"he'd\": \"he would\", \"he'd've\": \"he would have\", \"he'll\": \"he will\", \n",
        "                   \"he'll've\": \"he will have\", \"he's\": \"he is\", \"how'd\": \"how did\", \n",
        "                   \"how'd'y\": \"how do you\", \"how'll\": \"how will\", \"how's\": \"how is\", \n",
        "                   \"I'd\": \"I would\", \"I'd've\": \"I would have\", \"I'll\": \"I will\", \n",
        "                   \"I'll've\": \"I will have\",\"I'm\": \"I am\", \"I've\": \"I have\", \n",
        "                   \"i'd\": \"i would\", \"i'd've\": \"i would have\", \"i'll\": \"i will\", \n",
        "                   \"i'll've\": \"i will have\",\"i'm\": \"i am\", \"i've\": \"i have\", \n",
        "                   \"isn't\": \"is not\", \"it'd\": \"it would\", \"it'd've\": \"it would have\", \n",
        "                   \"it'll\": \"it will\", \"it'll've\": \"it will have\",\"it's\": \"it is\", \n",
        "                   \"let's\": \"let us\", \"ma'am\": \"madam\", \"mayn't\": \"may not\", \n",
        "                   \"might've\": \"might have\",\"mightn't\": \"might not\",\"mightn't've\": \"might not have\", \n",
        "                   \"must've\": \"must have\", \"mustn't\": \"must not\", \"mustn't've\": \"must not have\", \n",
        "                   \"needn't\": \"need not\", \"needn't've\": \"need not have\",\"o'clock\": \"of the clock\", \n",
        "                   \"oughtn't\": \"ought not\", \"oughtn't've\": \"ought not have\", \"shan't\": \"shall not\",\n",
        "                   \"sha'n't\": \"shall not\", \"shan't've\": \"shall not have\", \"she'd\": \"she would\", \n",
        "                   \"she'd've\": \"she would have\", \"she'll\": \"she will\", \"she'll've\": \"she will have\", \n",
        "                   \"she's\": \"she is\", \"should've\": \"should have\", \"shouldn't\": \"should not\", \n",
        "                   \"shouldn't've\": \"should not have\", \"so've\": \"so have\",\"so's\": \"so as\", \n",
        "                   \"this's\": \"this is\",\n",
        "                   \"that'd\": \"that would\", \"that'd've\": \"that would have\",\"that's\": \"that is\", \n",
        "                   \"there'd\": \"there would\", \"there'd've\": \"there would have\",\"there's\": \"there is\", \n",
        "                       \"here's\": \"here is\",\n",
        "                   \"they'd\": \"they would\", \"they'd've\": \"they would have\", \"they'll\": \"they will\", \n",
        "                   \"they'll've\": \"they will have\", \"they're\": \"they are\", \"they've\": \"they have\", \n",
        "                   \"to've\": \"to have\", \"wasn't\": \"was not\", \"we'd\": \"we would\", \n",
        "                   \"we'd've\": \"we would have\", \"we'll\": \"we will\", \"we'll've\": \"we will have\", \n",
        "                   \"we're\": \"we are\", \"we've\": \"we have\", \"weren't\": \"were not\", \n",
        "                   \"what'll\": \"what will\", \"what'll've\": \"what will have\", \"what're\": \"what are\", \n",
        "                   \"what's\": \"what is\", \"what've\": \"what have\", \"when's\": \"when is\", \n",
        "                   \"when've\": \"when have\", \"where'd\": \"where did\", \"where's\": \"where is\", \n",
        "                   \"where've\": \"where have\", \"who'll\": \"who will\", \"who'll've\": \"who will have\", \n",
        "                   \"who's\": \"who is\", \"who've\": \"who have\", \"why's\": \"why is\", \n",
        "                   \"why've\": \"why have\", \"will've\": \"will have\", \"won't\": \"will not\", \n",
        "                   \"won't've\": \"will not have\", \"would've\": \"would have\", \"wouldn't\": \"would not\", \n",
        "                   \"wouldn't've\": \"would not have\", \"y'all\": \"you all\", \"y'all'd\": \"you all would\",\n",
        "                   \"y'all'd've\": \"you all would have\",\"y'all're\": \"you all are\",\"y'all've\": \"you all have\",\n",
        "                   \"you'd\": \"you would\", \"you'd've\": \"you would have\", \"you'll\": \"you will\", \n",
        "                   \"you'll've\": \"you will have\", \"you're\": \"you are\", \"you've\": \"you have\" } "
      ]
    },
    {
      "cell_type": "code",
      "execution_count": null,
      "id": "16e18a5a",
      "metadata": {
        "id": "16e18a5a"
      },
      "outputs": [],
      "source": [
        "import codecs\n",
        "import unidecode\n",
        "import re\n",
        "import spacy\n",
        "nlp = spacy.load(\"en_core_web_sm\")\n",
        "\n",
        "\n",
        "def spacy_cleaner(text):\n",
        "    try:\n",
        "        decoded = unidecode.unidecode(codecs.decode(text, \"unicode_escape\"))\n",
        "    except:\n",
        "        decoded = unidecode.unidecode(text)\n",
        "    apostrophe_handled = re.sub(\"’\", \"'\", decoded)\n",
        "    expanded = ' '.join([contraction_mapping[t] if t in contraction_mapping else t for t in apostrophe_handled.split(\" \")])\n",
        "    parsed = nlp(expanded)\n",
        "    final_tokens = []\n",
        "    for t in parsed:\n",
        "        if t.is_punct or t.is_space or t.like_num or t.like_url or str(t).startswith('@'):\n",
        "            pass\n",
        "        else:\n",
        "            if t.lemma_ == '-PRON-':\n",
        "                final_tokens.append(str(t))\n",
        "            else:\n",
        "                sc_removed = re.sub(\"[^a-zA-Z]\", '', str(t.lemma_))\n",
        "                if len(sc_removed) > 1:\n",
        "                    final_tokens.append(sc_removed)\n",
        "    joined = ' '.join(final_tokens)\n",
        "    spell_corrected = re.sub(r'(.)\\1+', r'\\1\\1', joined)\n",
        "    return spell_corrected"
      ]
    },
    {
      "cell_type": "code",
      "execution_count": null,
      "id": "73b8ad9e",
      "metadata": {
        "colab": {
          "base_uri": "https://localhost:8080/"
        },
        "id": "73b8ad9e",
        "outputId": "1f841f15-0854-4b5c-a97e-745229428444"
      },
      "outputs": [
        {
          "data": {
            "text/plain": [
              "0                                      Saturday without Leeds United is like Sunday without a Sunday dinner it doesn't feel normal at all (Ryan)\n",
              "1                                                   Catch Rainbow Valley at the @CBC #IMAF2014 Gala. Oct 26 @TheGuildPEI! http://t.co/S5aJAEpnkY\n",
              "2    @NiklaklePinkel it doesn't really count, I was decorating a haunted house for a Halloween program tomorrow...I get paid lots of overtime:-)\n",
              "3         #BEARDOWN Wish us luck...we may need it. (@ Georgia Dome for Atlanta Falcons vs. Chicago Bears in Atlanta, GA) https://t.co/D0nAGYO4nO\n",
              "4         We're so excited to be part of the Still We Rise Gala on Dec 3. Join us! @warriors4peace http://t.co/MsKuNg5VMH http://t.co/BdQm1uZe4J\n",
              "5                             Not really feeling this new season of American Horror Story. 1st 2 season were legit, it went downhill after that.\n",
              "6                                   @jag_meister1980 Dude, c'mon. Bears are going to the Georgia Dome. That's the one place the Falcons CAN win.\n",
              "7    I wonder if Billy Joe Armstrong (Green Day) gets woken up every October 1st. That joke would be funny the first time but prob get annoying.\n",
              "8                                                               Late upload from the Bears game Sunday @ The Georgia Dome http://t.co/C0iXej2XSz\n",
              "9                                                           I caught up on AHS I'm a have to do scandal and how to get away with murder tomorrow\n",
              "Name: text, dtype: object"
            ]
          },
          "execution_count": 11,
          "metadata": {},
          "output_type": "execute_result"
        }
      ],
      "source": [
        "pd.set_option('display.max_colwidth', None)\n",
        "df.text[:10]"
      ]
    },
    {
      "cell_type": "code",
      "execution_count": null,
      "id": "242f4601",
      "metadata": {
        "colab": {
          "base_uri": "https://localhost:8080/"
        },
        "id": "242f4601",
        "outputId": "e6a80603-3cb0-47ef-ab64-edd5efd6b703"
      },
      "outputs": [
        {
          "data": {
            "text/plain": [
              "['Saturday without Leeds United be like Sunday without Sunday dinner it do not feel normal at all Ryan',\n",
              " 'Catch Rainbow Valley at the IMAF Gala Oct',\n",
              " 'it do not really count I be decorate haunt house for Halloween program tomorrow I get pay lot of overtime',\n",
              " 'BEARDOWN wish us luck we may need it Georgia Dome for Atlanta Falcons vs Chicago Bears in Atlanta GA',\n",
              " 'We be so excited to be part of the still We rise Gala on Dec join us',\n",
              " 'not really feel this new season of American Horror Story st season be legit it go downhill after that',\n",
              " 'Dude cmon bear be go to the Georgia Dome that be the place the Falcons CAN win',\n",
              " 'I wonder if Billy Joe Armstrong Green Day get wake up every October st that joke would be funny the first time but prob get annoying',\n",
              " 'late upload from the Bears game Sunday the Georgia Dome',\n",
              " 'I catch up on AHS I be have to do scandal and how to get away with murder tomorrow']"
            ]
          },
          "execution_count": 12,
          "metadata": {},
          "output_type": "execute_result"
        }
      ],
      "source": [
        "#Applied the custom cleaner\n",
        "[spacy_cleaner(t) for t in df.text[:10]]\n"
      ]
    },
    {
      "cell_type": "code",
      "execution_count": null,
      "id": "cd2d81cf",
      "metadata": {
        "colab": {
          "base_uri": "https://localhost:8080/"
        },
        "id": "cd2d81cf",
        "outputId": "9f9eb871-0190-4c86-ff25-cbc69ee6fb3b"
      },
      "outputs": [
        {
          "name": "stderr",
          "output_type": "stream",
          "text": [
            "/usr/local/lib/python3.7/dist-packages/ipykernel_launcher.py:10: DeprecationWarning: invalid escape sequence '\\o'\n",
            "  # Remove the CWD from sys.path while we load stuff.\n",
            "/usr/local/lib/python3.7/dist-packages/ipykernel_launcher.py:10: DeprecationWarning: invalid escape sequence '\\('\n",
            "  # Remove the CWD from sys.path while we load stuff.\n",
            "/usr/local/lib/python3.7/dist-packages/ipykernel_launcher.py:10: DeprecationWarning: invalid escape sequence '\\ '\n",
            "  # Remove the CWD from sys.path while we load stuff.\n",
            "/usr/local/lib/python3.7/dist-packages/ipykernel_launcher.py:10: DeprecationWarning: invalid escape sequence '\\i'\n",
            "  # Remove the CWD from sys.path while we load stuff.\n",
            "/usr/local/lib/python3.7/dist-packages/ipykernel_launcher.py:10: DeprecationWarning: invalid escape sequence '\\m'\n",
            "  # Remove the CWD from sys.path while we load stuff.\n",
            "/usr/local/lib/python3.7/dist-packages/ipykernel_launcher.py:10: DeprecationWarning: invalid escape sequence '\\,'\n",
            "  # Remove the CWD from sys.path while we load stuff.\n",
            "/usr/local/lib/python3.7/dist-packages/ipykernel_launcher.py:10: DeprecationWarning: invalid escape sequence '\\l'\n",
            "  # Remove the CWD from sys.path while we load stuff.\n",
            "/usr/local/lib/python3.7/dist-packages/ipykernel_launcher.py:10: DeprecationWarning: invalid escape sequence '\\_'\n",
            "  # Remove the CWD from sys.path while we load stuff.\n",
            "/usr/local/lib/python3.7/dist-packages/ipykernel_launcher.py:10: DeprecationWarning: invalid escape sequence '\\/'\n",
            "  # Remove the CWD from sys.path while we load stuff.\n"
          ]
        }
      ],
      "source": [
        "#Apply the cleaner to all dataset\n",
        "df['clean_text'] = [spacy_cleaner(t) for t in df.text]"
      ]
    },
    {
      "cell_type": "code",
      "execution_count": null,
      "id": "569a4445",
      "metadata": {
        "colab": {
          "base_uri": "https://localhost:8080/"
        },
        "id": "569a4445",
        "outputId": "67ffd838-0276-4546-b4c5-6950aea6507f"
      },
      "outputs": [
        {
          "name": "stdout",
          "output_type": "stream",
          "text": [
            "7848 @iamdavebriggs see you in Manila on Sept  18! Check this out! One of my shots from Smash Project in Manila! \\m/ http://t.co/SMxPUrwk\n",
            "12383 @TheMetalCore Can't wait for them both! September is equally impressive with FFDP, Iron Maiden, Slayer, BMTH, and Parkway Drive! \\m/\n",
            "15805 Tomorrow is a big Metal day.  At 8:00am the new Iron Maiden tune premiers and, of course, new albums to purchase.  I love Heavy Metal! \\m/\n",
            "16328 Iron Maiden released their new video on the 14th of august \\m/\n",
            "16553 Check out the new Iron Maiden Video from their forthcoming album Book of Souls out September 4th! \\m/ Listen to... http://t.co/pVDxR2iyQX\n",
            "20152 Another great preview from the new IRON MAIDEN album THE BOOK OF SOULS \\m/ OUT SEPTEMBER 4th http://t.co/sxrPyjyhMH\n",
            "22131 Let's hope it's not!! Look for \"The Book of Souls\" from Iron Maiden This Friday September 4th!! \\m/\\m/ Listen to... http://t.co/R39jz4rmER\n",
            "22323 @TonyBasilio Iron Maiden reference... Now you're talking! New album #BookOfSouls drops Friday #uptheirons  Woooooo! \\m/ \\m/\n",
            "22451 I may be 30 years too late to say this but The Trooper by Iron Maiden is fucking great, For some reason Id never heard it before \\m/\n",
            "22823 @q_salazar well, yeah, but so are you, ese. Oh, and Iron Maiden's new one drops tomorrow! \\m/\n",
            "24801 The new Iron Maiden album for those that may be interested, need another listen but I like it so far :) \\m/\n",
            "32085 Carnival tomorrow. Then going to mcdonalds with Deztanee and Sam after. \\m/\n",
            "32530 @garrettmaine Garrett\\u002c you are awesome and it was so cool talking to you tonight! David Bowie forever \\m/ See you tomorrow\\u002c hombre.\n",
            "35201 Epic!  Judas Priest - Hell Patrol [British Steel 30th Anniversary HD] https://t.co/DIWKuHm9 my top fav song from Painkiller \\m/ love it\n",
            "35964 Lamb of God is coming to town on the 12th!!!!!!!!!!!!!!!! #omg I\\u2019m soooo excited XD I can\\u2019t wait to get into the pit and go crazy! \\m/\n"
          ]
        }
      ],
      "source": [
        "for i,t in enumerate(df.text):\n",
        "    if '\\m' in t:\n",
        "        print(i,t)"
      ]
    },
    {
      "cell_type": "code",
      "execution_count": null,
      "id": "cec85493",
      "metadata": {
        "colab": {
          "base_uri": "https://localhost:8080/",
          "height": 35
        },
        "id": "cec85493",
        "outputId": "9463bcac-ea3f-483c-f5b1-fc2b588de766"
      },
      "outputs": [
        {
          "data": {
            "application/vnd.google.colaboratory.intrinsic+json": {
              "type": "string"
            },
            "text/plain": [
              "'Lenny Kravitz in The Hunger Games.... Mmmm...May the odds be ever in our favor.'"
            ]
          },
          "execution_count": 15,
          "metadata": {},
          "output_type": "execute_result"
        }
      ],
      "source": [
        "df.text[1192]"
      ]
    },
    {
      "cell_type": "code",
      "execution_count": null,
      "id": "3b47fb90",
      "metadata": {
        "colab": {
          "base_uri": "https://localhost:8080/",
          "height": 35
        },
        "id": "3b47fb90",
        "outputId": "d7a64cd2-8984-4753-a94a-d058ade1c96e"
      },
      "outputs": [
        {
          "data": {
            "application/vnd.google.colaboratory.intrinsic+json": {
              "type": "string"
            },
            "text/plain": [
              "'Lenny Kravitz in the Hunger Games mm May the odd be ever in our favor'"
            ]
          },
          "execution_count": 16,
          "metadata": {},
          "output_type": "execute_result"
        }
      ],
      "source": [
        "spacy_cleaner(df.text[1192])"
      ]
    },
    {
      "cell_type": "markdown",
      "id": "dc71166d",
      "metadata": {
        "id": "dc71166d"
      },
      "source": [
        "# Imbalanced Learning"
      ]
    },
    {
      "cell_type": "markdown",
      "id": "ae10f0d2",
      "metadata": {
        "id": "ae10f0d2"
      },
      "source": [
        "The dataset isn't balanced where the neutral sentiment has 3 times more data than the negative and the positive class has around 2.4 times more data than the negative class"
      ]
    },
    {
      "cell_type": "code",
      "execution_count": null,
      "id": "bda9237f",
      "metadata": {
        "colab": {
          "base_uri": "https://localhost:8080/"
        },
        "id": "bda9237f",
        "outputId": "5c871d4d-6e3c-4cce-d7b6-c6c51cf8786d"
      },
      "outputs": [
        {
          "data": {
            "text/plain": [
              "neutral     19466\n",
              "positive    15754\n",
              "negative     6485\n",
              "Name: sentiment, dtype: int64"
            ]
          },
          "execution_count": 17,
          "metadata": {},
          "output_type": "execute_result"
        }
      ],
      "source": [
        "df.sentiment.value_counts()"
      ]
    },
    {
      "cell_type": "code",
      "execution_count": null,
      "id": "075c9a15",
      "metadata": {
        "id": "075c9a15"
      },
      "outputs": [],
      "source": [
        "#Original Imbalanced Data\n",
        "from sklearn.linear_model import LogisticRegression\n",
        "from sklearn.ensemble import RandomForestClassifier\n",
        "from sklearn.neighbors import KNeighborsClassifier\n",
        "from sklearn.naive_bayes import GaussianNB\n",
        "from sklearn.feature_extraction.text import TfidfVectorizer\n",
        "from sklearn.linear_model import Perceptron\n",
        "from sklearn.linear_model import SGDClassifier\n",
        "\n",
        "tvec = TfidfVectorizer(stop_words=None, max_features=100000, ngram_range=(1, 3))\n",
        "lr = LogisticRegression(max_iter=1000)\n",
        "rf = RandomForestClassifier(max_depth=2, random_state=0)\n",
        "neigh = KNeighborsClassifier(n_neighbors=3)\n",
        "gnb = GaussianNB()\n",
        "pct = Perceptron(tol=1e-3, random_state=0)\n",
        "sgd = SGDClassifier(loss=\"hinge\", penalty=\"l2\", max_iter=1000)\n",
        "\n",
        "from sklearn.model_selection import StratifiedKFold\n",
        "from sklearn.metrics import precision_score, recall_score, f1_score\n",
        "\n",
        "def lr_cv(splits, X, Y, pipeline, average_method):\n",
        "    \n",
        "    kfold = StratifiedKFold(n_splits=splits, shuffle=True, random_state=777)\n",
        "    accuracy = []\n",
        "    precision = []\n",
        "    recall = []\n",
        "    f1 = []\n",
        "    for train, test in kfold.split(X, Y):\n",
        "        lr_fit = pipeline.fit(X[train], Y[train])\n",
        "        prediction = lr_fit.predict(X[test])\n",
        "        scores = lr_fit.score(X[test],Y[test])\n",
        "        \n",
        "        accuracy.append(scores * 100)\n",
        "        precision.append(precision_score(Y[test], prediction, average=average_method)*100)\n",
        "        print('              negative    neutral     positive')\n",
        "        print('precision:',precision_score(Y[test], prediction, average=None))\n",
        "        recall.append(recall_score(Y[test], prediction, average=average_method)*100)\n",
        "        print('recall:   ',recall_score(Y[test], prediction, average=None))\n",
        "        f1.append(f1_score(Y[test], prediction, average=average_method)*100)\n",
        "        print('f1 score: ',f1_score(Y[test], prediction, average=None))\n",
        "        print('-'*50)\n",
        "\n",
        "    print(\"accuracy: %.2f%% (+/- %.2f%%)\" % (np.mean(accuracy), np.std(accuracy)))\n",
        "    print(\"precision: %.2f%% (+/- %.2f%%)\" % (np.mean(precision), np.std(precision)))\n",
        "    print(\"recall: %.2f%% (+/- %.2f%%)\" % (np.mean(recall), np.std(recall)))\n",
        "    print(\"f1 score: %.2f%% (+/- %.2f%%)\" % (np.mean(f1), np.std(f1)))"
      ]
    },
    {
      "cell_type": "code",
      "execution_count": null,
      "id": "78f304a5",
      "metadata": {
        "colab": {
          "base_uri": "https://localhost:8080/"
        },
        "id": "78f304a5",
        "outputId": "90eaf41d-4296-406f-e6f6-859c92e28c2c"
      },
      "outputs": [
        {
          "name": "stdout",
          "output_type": "stream",
          "text": [
            "              negative    neutral     positive\n",
            "precision: [0.63374486 0.65007445 0.71556166]\n",
            "recall:    [0.35620663 0.78499872 0.66105998]\n",
            "f1 score:  [0.45607108 0.71119386 0.68723194]\n",
            "--------------------------------------------------\n",
            "              negative    neutral     positive\n",
            "precision: [0.63716814 0.6432319  0.71083506]\n",
            "recall:    [0.33307633 0.78731056 0.65376071]\n",
            "f1 score:  [0.43746835 0.70801571 0.68110431]\n",
            "--------------------------------------------------\n",
            "              negative    neutral     positive\n",
            "precision: [0.62898936 0.64623838 0.71263563]\n",
            "recall:    [0.36468774 0.78551246 0.64614408]\n",
            "f1 score:  [0.46168863 0.70910145 0.67776298]\n",
            "--------------------------------------------------\n",
            "              negative    neutral     positive\n",
            "precision: [0.63213811 0.65423365 0.72117687]\n",
            "recall:    [0.36700077 0.78397123 0.66899397]\n",
            "f1 score:  [0.46439024 0.71325076 0.69410603]\n",
            "--------------------------------------------------\n",
            "              negative    neutral     positive\n",
            "precision: [0.62790698 0.64572758 0.7130465 ]\n",
            "recall:    [0.3538936  0.78402671 0.65238095]\n",
            "f1 score:  [0.45266272 0.70818836 0.68136605]\n",
            "--------------------------------------------------\n",
            "accuracy: 66.97% (+/- 0.35%)\n",
            "precision: 66.48% (+/- 0.26%)\n",
            "recall: 59.89% (+/- 0.50%)\n",
            "f1 score: 61.62% (+/- 0.49%)\n"
          ]
        }
      ],
      "source": [
        "from sklearn.pipeline import Pipeline\n",
        "original_pipeline = Pipeline([\n",
        "    ('vectorizer', tvec),\n",
        "    ('classifier', lr)\n",
        "])\n",
        "lr_cv(5, df.clean_text, df.sentiment, original_pipeline, 'macro')"
      ]
    },
    {
      "cell_type": "markdown",
      "id": "7d64b254",
      "metadata": {
        "id": "7d64b254"
      },
      "source": [
        "With data as it is without any resampling, we can see that the precision is higher than the recall."
      ]
    },
    {
      "cell_type": "markdown",
      "id": "db3e7736",
      "metadata": {
        "id": "db3e7736"
      },
      "source": [
        "## Oversampling\n"
      ]
    },
    {
      "cell_type": "markdown",
      "id": "YNEb-pbZSZkt",
      "metadata": {
        "id": "YNEb-pbZSZkt"
      },
      "source": []
    },
    {
      "cell_type": "code",
      "execution_count": null,
      "id": "b9400c38",
      "metadata": {
        "id": "b9400c38"
      },
      "outputs": [],
      "source": []
    },
    {
      "cell_type": "code",
      "execution_count": null,
      "id": "ef0c000a",
      "metadata": {
        "id": "ef0c000a"
      },
      "outputs": [],
      "source": [
        "#Random Over Sampler\n",
        "from imblearn.pipeline import make_pipeline\n",
        "from imblearn.over_sampling import ADASYN, SMOTE, RandomOverSampler\n",
        "\n",
        "ROS_pipeline = make_pipeline(tvec, RandomOverSampler(random_state=777),lr )\n",
        "SMOTE_pipeline_lr = make_pipeline(tvec, SMOTE(random_state=777),lr)\n",
        "SMOTE_pipeline_rf = make_pipeline(tvec, SMOTE(random_state=777),rf)\n",
        "SMOTE_pipeline_neigh = make_pipeline(tvec, SMOTE(random_state=777),neigh)\n",
        "SMOTE_pipeline_gnb = make_pipeline(tvec, SMOTE(random_state=777),gnb)\n",
        "SMOTE_pipeline_pct = make_pipeline(tvec, SMOTE(random_state=777),pct)\n",
        "SMOTE_pipeline_sgd = make_pipeline(tvec, SMOTE(random_state=777),sgd)\n",
        "\n"
      ]
    },
    {
      "cell_type": "code",
      "execution_count": null,
      "id": "68bbfa41",
      "metadata": {
        "colab": {
          "base_uri": "https://localhost:8080/"
        },
        "id": "68bbfa41",
        "outputId": "effd9baf-2a9b-42c7-dd90-6dc423679590"
      },
      "outputs": [
        {
          "name": "stdout",
          "output_type": "stream",
          "text": [
            "              negative    neutral     positive\n",
            "precision: [0.50431034 0.69983775 0.71215634]\n",
            "recall:    [0.63145721 0.66478294 0.68232307]\n",
            "f1 score:  [0.56076686 0.6818601  0.69692058]\n",
            "--------------------------------------------------\n",
            "              negative    neutral     positive\n",
            "precision: [0.50473784 0.69218501 0.71061415]\n",
            "recall:    [0.61603701 0.66889288 0.67565852]\n",
            "f1 score:  [0.55486111 0.68033965 0.69269562]\n",
            "--------------------------------------------------\n",
            "              negative    neutral     positive\n",
            "precision: [0.49114233 0.69041243 0.70538721]\n",
            "recall:    [0.61989206 0.66221423 0.6648683 ]\n",
            "f1 score:  [0.54805726 0.6760194  0.68452867]\n",
            "--------------------------------------------------\n",
            "              negative    neutral     positive\n",
            "precision: [0.52075472 0.69913886 0.71630972]\n",
            "recall:    [0.6383963  0.66735166 0.6899397 ]\n",
            "f1 score:  [0.57360582 0.68287554 0.70287747]\n",
            "--------------------------------------------------\n",
            "              negative    neutral     positive\n",
            "precision: [0.48987109 0.68931521 0.71814802]\n",
            "recall:    [0.615266   0.66435542 0.67460317]\n",
            "f1 score:  [0.54545455 0.6766052  0.69569488]\n",
            "--------------------------------------------------\n",
            "accuracy: 66.36% (+/- 0.50%)\n",
            "precision: 63.63% (+/- 0.56%)\n",
            "recall: 65.57% (+/- 0.59%)\n",
            "f1 score: 64.35% (+/- 0.59%)\n"
          ]
        }
      ],
      "source": [
        "lr_cv(5, df.clean_text, df.sentiment, ROS_pipeline, 'macro')"
      ]
    },
    {
      "cell_type": "code",
      "execution_count": null,
      "id": "7f53ea70",
      "metadata": {
        "colab": {
          "base_uri": "https://localhost:8080/"
        },
        "id": "7f53ea70",
        "outputId": "eef3bb2a-3c76-48ad-ef3e-6aba4dd643a4"
      },
      "outputs": [
        {
          "name": "stdout",
          "output_type": "stream",
          "text": [
            "              negative    neutral     positive\n",
            "precision: [0.51315789 0.70013351 0.71333333]\n",
            "recall:    [0.63145721 0.67351657 0.67914948]\n",
            "f1 score:  [0.56619426 0.68656716 0.69582182]\n",
            "--------------------------------------------------\n",
            "              negative    neutral     positive\n",
            "precision: [0.5094217  0.68792831 0.70711436]\n",
            "recall:    [0.60447186 0.67043411 0.6750238 ]\n",
            "f1 score:  [0.5528914  0.67906856 0.69069654]\n",
            "--------------------------------------------------\n",
            "              negative    neutral     positive\n",
            "precision: [0.49876999 0.69119615 0.70550705]\n",
            "recall:    [0.62528913 0.66349859 0.66677245]\n",
            "f1 score:  [0.55490934 0.67706422 0.68559308]\n",
            "--------------------------------------------------\n",
            "              negative    neutral     positive\n",
            "precision: [0.52753442 0.70350549 0.72022621]\n",
            "recall:    [0.64996145 0.67531467 0.68708347]\n",
            "f1 score:  [0.58238342 0.68912189 0.70326458]\n",
            "--------------------------------------------------\n",
            "              negative    neutral     positive\n",
            "precision: [0.4879257  0.68540224 0.71467026]\n",
            "recall:    [0.6075559  0.66076014 0.67428571]\n",
            "f1 score:  [0.54120879 0.67285565 0.69389089]\n",
            "--------------------------------------------------\n",
            "accuracy: 66.46% (+/- 0.69%)\n",
            "precision: 63.77% (+/- 0.77%)\n",
            "recall: 65.63% (+/- 0.86%)\n",
            "f1 score: 64.48% (+/- 0.81%)\n"
          ]
        }
      ],
      "source": [
        "#SMOTE with Logistic Regression\n",
        "lr_cv(5, df.clean_text, df.sentiment, SMOTE_pipeline_lr, 'macro')\n"
      ]
    },
    {
      "cell_type": "code",
      "execution_count": null,
      "id": "sXDRVLfcaT0X",
      "metadata": {
        "colab": {
          "base_uri": "https://localhost:8080/"
        },
        "id": "sXDRVLfcaT0X",
        "outputId": "0a36967a-43a5-4193-a897-066a0cab10ab"
      },
      "outputs": [
        {
          "name": "stdout",
          "output_type": "stream",
          "text": [
            "              negative    neutral     positive\n",
            "precision: [0.32413793 0.54243624 0.58752621]\n",
            "recall:    [0.47108712 0.63370152 0.35576008]\n",
            "f1 score:  [0.3840352  0.5845279  0.44317059]\n",
            "--------------------------------------------------\n",
            "              negative    neutral     positive\n",
            "precision: [0.33388796 0.55281403 0.67870257]\n",
            "recall:    [0.46414803 0.69637811 0.35195176]\n",
            "f1 score:  [0.3883871  0.61634648 0.46353187]\n",
            "--------------------------------------------------\n",
            "              negative    neutral     positive\n",
            "precision: [0.33405876 0.5827184  0.6342311 ]\n",
            "recall:    [0.47340015 0.62882096 0.46334497]\n",
            "f1 score:  [0.39170654 0.60489251 0.53548505]\n",
            "--------------------------------------------------\n",
            "              negative    neutral     positive\n",
            "precision: [0.35930736 0.56484748 0.66246719]\n",
            "recall:    [0.44795682 0.6992037  0.40050778]\n",
            "f1 score:  [0.39876458 0.62488522 0.49920886]\n",
            "--------------------------------------------------\n",
            "              negative    neutral     positive\n",
            "precision: [0.34780279 0.56227906 0.68847539]\n",
            "recall:    [0.50038551 0.69440164 0.36412698]\n",
            "f1 score:  [0.4103699  0.62139492 0.4763289 ]\n",
            "--------------------------------------------------\n",
            "accuracy: 53.25% (+/- 1.56%)\n",
            "precision: 51.70% (+/- 1.71%)\n",
            "recall: 50.97% (+/- 1.29%)\n",
            "f1 score: 49.62% (+/- 1.47%)\n"
          ]
        }
      ],
      "source": [
        "#SMOTE with Random Forest\n",
        "lr_cv(5, df.clean_text, df.sentiment, SMOTE_pipeline_rf, 'macro')\n"
      ]
    },
    {
      "cell_type": "code",
      "execution_count": null,
      "id": "IlLJp4Vobz-n",
      "metadata": {
        "colab": {
          "base_uri": "https://localhost:8080/"
        },
        "id": "IlLJp4Vobz-n",
        "outputId": "a0d59d9c-eae7-4373-e1cc-4988ec30bb4c"
      },
      "outputs": [
        {
          "name": "stdout",
          "output_type": "stream",
          "text": [
            "              negative    neutral     positive\n",
            "precision: [0.48175182 0.47338689 0.66806723]\n",
            "recall:    [0.05088666 0.9686617  0.05046017]\n",
            "f1 score:  [0.09205021 0.63597268 0.09383299]\n",
            "--------------------------------------------------\n",
            "              negative    neutral     positive\n",
            "precision: [0.20485981 0.63150074 0.58541033]\n",
            "recall:    [0.84502699 0.21834061 0.30561726]\n",
            "f1 score:  [0.32977283 0.32448941 0.40158465]\n",
            "--------------------------------------------------\n",
            "              negative    neutral     positive\n",
            "precision: [0.36585366 0.47397606 0.73140496]\n",
            "recall:    [0.0462606  0.96609299 0.05617264]\n",
            "f1 score:  [0.08213552 0.6359486  0.10433245]\n",
            "--------------------------------------------------\n",
            "              negative    neutral     positive\n",
            "precision: [0.20595855 0.63908702 0.60521173]\n",
            "recall:    [0.85813416 0.23015669 0.29482704]\n",
            "f1 score:  [0.33218923 0.33843248 0.39650021]\n",
            "--------------------------------------------------\n",
            "              negative    neutral     positive\n",
            "precision: [0.36470588 0.47135122 0.66956522]\n",
            "recall:    [0.04780262 0.96122239 0.04888889]\n",
            "f1 score:  [0.08452624 0.63253063 0.09112426]\n",
            "--------------------------------------------------\n",
            "accuracy: 42.68% (+/- 6.23%)\n",
            "precision: 50.48% (+/- 2.49%)\n",
            "recall: 39.66% (+/- 5.08%)\n",
            "f1 score: 30.50% (+/- 3.99%)\n"
          ]
        }
      ],
      "source": [
        "#SMOTE with KNN\n",
        "lr_cv(5, df.clean_text, df.sentiment, SMOTE_pipeline_neigh, 'macro')\n"
      ]
    },
    {
      "cell_type": "code",
      "execution_count": null,
      "id": "y4spTvI9cHGM",
      "metadata": {
        "colab": {
          "base_uri": "https://localhost:8080/"
        },
        "id": "y4spTvI9cHGM",
        "outputId": "17f56739-89ae-4771-984a-31e4094bbfe0"
      },
      "outputs": [
        {
          "name": "stdout",
          "output_type": "stream",
          "text": [
            "              negative    neutral     positive\n",
            "precision: [0.5122549  0.66936354 0.64153711]\n",
            "recall:    [0.48342328 0.63755459 0.69406538]\n",
            "f1 score:  [0.49742166 0.65307196 0.66676829]\n",
            "--------------------------------------------------\n",
            "              negative    neutral     positive\n",
            "precision: [0.55304519 0.64733465 0.64445124]\n",
            "recall:    [0.43407864 0.67377344 0.66899397]\n",
            "f1 score:  [0.48639309 0.66028949 0.6564933 ]\n",
            "--------------------------------------------------\n",
            "              negative    neutral     positive\n",
            "precision: [0.52522523 0.64977916 0.63867534]\n",
            "recall:    [0.44949884 0.64243514 0.68549667]\n",
            "f1 score:  [0.48442044 0.64608628 0.66125823]\n",
            "--------------------------------------------------\n",
            "              negative    neutral     positive\n",
            "precision: [0.53799655 0.65195369 0.67961804]\n",
            "recall:    [0.48033924 0.69432314 0.65503015]\n",
            "f1 score:  [0.50753564 0.6724717  0.66709761]\n",
            "--------------------------------------------------\n",
            "              negative    neutral     positive\n",
            "precision: [0.51499118 0.64378613 0.66775777]\n",
            "recall:    [0.45026985 0.68644068 0.64761905]\n",
            "f1 score:  [0.48046072 0.66442953 0.65753425]\n",
            "--------------------------------------------------\n",
            "accuracy: 63.59% (+/- 0.57%)\n",
            "precision: 61.19% (+/- 0.66%)\n",
            "recall: 59.89% (+/- 0.72%)\n",
            "f1 score: 60.41% (+/- 0.64%)\n"
          ]
        }
      ],
      "source": [
        "#SMOTE with Perceptron\n",
        "lr_cv(5, df.clean_text, df.sentiment, SMOTE_pipeline_pct, 'macro')\n"
      ]
    },
    {
      "cell_type": "code",
      "execution_count": null,
      "id": "CyUo82qRe7T0",
      "metadata": {
        "colab": {
          "base_uri": "https://localhost:8080/"
        },
        "id": "CyUo82qRe7T0",
        "outputId": "232badf7-8e24-4642-a8bd-c141df0540cd"
      },
      "outputs": [
        {
          "name": "stdout",
          "output_type": "stream",
          "text": [
            "              negative    neutral     positive\n",
            "precision: [0.44676894 0.71232877 0.71428571]\n",
            "recall:    [0.74094063 0.60107886 0.6585211 ]\n",
            "f1 score:  [0.55742459 0.6519922  0.68527081]\n",
            "--------------------------------------------------\n",
            "              negative    neutral     positive\n",
            "precision: [0.4393869  0.70837224 0.70521008]\n",
            "recall:    [0.72937548 0.5846391  0.66582037]\n",
            "f1 score:  [0.5484058  0.64058542 0.6849494 ]\n",
            "--------------------------------------------------\n",
            "              negative    neutral     positive\n",
            "precision: [0.43523551 0.71763216 0.7067922 ]\n",
            "recall:    [0.74094063 0.58232725 0.66708981]\n",
            "f1 score:  [0.54835949 0.64293817 0.68636735]\n",
            "--------------------------------------------------\n",
            "              negative    neutral     positive\n",
            "precision: [0.45540797 0.71630335 0.71337366]\n",
            "recall:    [0.74016962 0.59928076 0.67375436]\n",
            "f1 score:  [0.56387665 0.65258741 0.6929982 ]\n",
            "--------------------------------------------------\n",
            "              negative    neutral     positive\n",
            "precision: [0.43885556 0.70382746 0.71443442]\n",
            "recall:    [0.73323053 0.59501798 0.65365079]\n",
            "f1 score:  [0.54907621 0.64486502 0.68269231]\n",
            "--------------------------------------------------\n",
            "accuracy: 64.19% (+/- 0.44%)\n",
            "precision: 62.19% (+/- 0.40%)\n",
            "recall: 66.44% (+/- 0.41%)\n",
            "f1 score: 62.88% (+/- 0.45%)\n"
          ]
        }
      ],
      "source": [
        "#SMOTE with SGD\n",
        "lr_cv(5, df.clean_text, df.sentiment, SMOTE_pipeline_sgd, 'macro')\n"
      ]
    },
    {
      "cell_type": "markdown",
      "id": "02mOxH4AdbbZ",
      "metadata": {
        "id": "02mOxH4AdbbZ"
      },
      "source": [
        "## Downsampling"
      ]
    },
    {
      "cell_type": "code",
      "execution_count": null,
      "id": "cEBgzBHydl2u",
      "metadata": {
        "id": "cEBgzBHydl2u"
      },
      "outputs": [],
      "source": [
        "from imblearn.under_sampling import NearMiss, RandomUnderSampler\n",
        "from imblearn import under_sampling as us\n",
        "\n",
        "RUS_pipeline = make_pipeline(tvec, RandomUnderSampler(random_state=777),lr)\n",
        "NM1_pipeline = make_pipeline(tvec, NearMiss(sampling_strategy='not minority', version = 1),lr)\n",
        "NM2_pipeline = make_pipeline(tvec, NearMiss(sampling_strategy='not minority', version = 2),lr)\n",
        "NM3_pipeline = make_pipeline(tvec, NearMiss(sampling_strategy='not minority', version = 3, n_neighbors_ver3=4),lr)"
      ]
    },
    {
      "cell_type": "markdown",
      "id": "CEaMIdCJdgor",
      "metadata": {
        "id": "CEaMIdCJdgor"
      },
      "source": [
        "### RandomUnderSampler\n"
      ]
    },
    {
      "cell_type": "code",
      "execution_count": null,
      "id": "oJs8gWAjdi_h",
      "metadata": {
        "colab": {
          "base_uri": "https://localhost:8080/"
        },
        "id": "oJs8gWAjdi_h",
        "outputId": "4573b019-4433-441f-fd26-dd325b80ec11"
      },
      "outputs": [
        {
          "name": "stdout",
          "output_type": "stream",
          "text": [
            "              negative    neutral     positive\n",
            "precision: [0.43359197 0.7091081  0.69398724]\n",
            "recall:    [0.73245952 0.57796044 0.65566487]\n",
            "f1 score:  [0.54472477 0.63685253 0.67428198]\n",
            "--------------------------------------------------\n",
            "              negative    neutral     positive\n",
            "precision: [0.43256881 0.69725064 0.68282229]\n",
            "recall:    [0.72706245 0.56023632 0.65725167]\n",
            "f1 score:  [0.54242163 0.62127902 0.66979301]\n",
            "--------------------------------------------------\n",
            "              negative    neutral     positive\n",
            "precision: [0.42041908 0.69575089 0.67794362]\n",
            "recall:    [0.72706245 0.55098895 0.64868296]\n",
            "f1 score:  [0.53276836 0.6149656  0.66299059]\n",
            "--------------------------------------------------\n",
            "              negative    neutral     positive\n",
            "precision: [0.44020475 0.70205371 0.68913115]\n",
            "recall:    [0.72937548 0.57076805 0.66201206]\n",
            "f1 score:  [0.54904237 0.62964012 0.67529945]\n",
            "--------------------------------------------------\n",
            "              negative    neutral     positive\n",
            "precision: [0.41799645 0.68481013 0.68854701]\n",
            "recall:    [0.72706245 0.55572676 0.63936508]\n",
            "f1 score:  [0.53081903 0.61355259 0.66304527]\n",
            "--------------------------------------------------\n",
            "accuracy: 62.27% (+/- 0.72%)\n",
            "precision: 60.44% (+/- 0.62%)\n",
            "recall: 64.81% (+/- 0.59%)\n",
            "f1 score: 61.08% (+/- 0.68%)\n"
          ]
        }
      ],
      "source": [
        "lr_cv(5, df.clean_text, df.sentiment, RUS_pipeline, 'macro')\n"
      ]
    },
    {
      "cell_type": "markdown",
      "id": "bE9lmb6dgdP7",
      "metadata": {
        "id": "bE9lmb6dgdP7"
      },
      "source": [
        "## Near Miss"
      ]
    },
    {
      "cell_type": "markdown",
      "id": "FDxIJ6GWggZi",
      "metadata": {
        "id": "FDxIJ6GWggZi"
      },
      "source": [
        "### Near Miss 1"
      ]
    },
    {
      "cell_type": "code",
      "execution_count": null,
      "id": "1E1rLmqZgcHu",
      "metadata": {
        "colab": {
          "base_uri": "https://localhost:8080/"
        },
        "id": "1E1rLmqZgcHu",
        "outputId": "45fceed9-0592-4367-9c0e-358b4015ec6e"
      },
      "outputs": [
        {
          "name": "stdout",
          "output_type": "stream",
          "text": [
            "              negative    neutral     positive\n",
            "precision: [0.40577778 0.69964912 0.65751311]\n",
            "recall:    [0.70393215 0.51220139 0.67629324]\n",
            "f1 score:  [0.51480124 0.59142815 0.66677096]\n",
            "--------------------------------------------------\n",
            "              negative    neutral     positive\n",
            "precision: [0.41160347 0.69470828 0.66853933]\n",
            "recall:    [0.69468003 0.52607244 0.6797842 ]\n",
            "f1 score:  [0.51692484 0.59874287 0.67411487]\n",
            "--------------------------------------------------\n",
            "              negative    neutral     positive\n",
            "precision: [0.40605521 0.70614797 0.66542289]\n",
            "recall:    [0.70316114 0.52221937 0.67914948]\n",
            "f1 score:  [0.51481795 0.60041347 0.67221611]\n",
            "--------------------------------------------------\n",
            "              negative    neutral     positive\n",
            "precision: [0.41906475 0.70777664 0.67010632]\n",
            "recall:    [0.71858134 0.53069612 0.68010156]\n",
            "f1 score:  [0.52939506 0.60657663 0.67506694]\n",
            "--------------------------------------------------\n",
            "              negative    neutral     positive\n",
            "precision: [0.40734028 0.68355705 0.65821179]\n",
            "recall:    [0.69313801 0.52311248 0.65904762]\n",
            "f1 score:  [0.51312785 0.59266802 0.65862944]\n",
            "--------------------------------------------------\n",
            "accuracy: 60.82% (+/- 0.54%)\n",
            "precision: 59.08% (+/- 0.53%)\n",
            "recall: 63.35% (+/- 0.59%)\n",
            "f1 score: 59.50% (+/- 0.53%)\n"
          ]
        }
      ],
      "source": [
        "lr_cv(5, df.clean_text, df.sentiment, NM1_pipeline, 'macro')\n"
      ]
    },
    {
      "cell_type": "markdown",
      "id": "4IIRXyu8gsO9",
      "metadata": {
        "id": "4IIRXyu8gsO9"
      },
      "source": [
        "## Near Miss 2"
      ]
    },
    {
      "cell_type": "code",
      "execution_count": null,
      "id": "03CFYJfufeF3",
      "metadata": {
        "colab": {
          "base_uri": "https://localhost:8080/"
        },
        "id": "03CFYJfufeF3",
        "outputId": "5a1352d1-6d16-494f-9822-89f1a1737ab2"
      },
      "outputs": [
        {
          "name": "stdout",
          "output_type": "stream",
          "text": [
            "              negative    neutral     positive\n",
            "precision: [0.35426166 0.6952487  0.68919886]\n",
            "recall:    [0.77872012 0.48111996 0.61155189]\n",
            "f1 score:  [0.48698168 0.56869592 0.64805784]\n",
            "--------------------------------------------------\n",
            "              negative    neutral     positive\n",
            "precision: [0.36727941 0.70454545 0.68855859]\n",
            "recall:    [0.77023901 0.49370665 0.63218026]\n",
            "f1 score:  [0.49738611 0.58057695 0.65916612]\n",
            "--------------------------------------------------\n",
            "              negative    neutral     positive\n",
            "precision: [0.36512559 0.69652454 0.69389939]\n",
            "recall:    [0.77332305 0.49935782 0.61726436]\n",
            "f1 score:  [0.49604352 0.58168761 0.65334229]\n",
            "--------------------------------------------------\n",
            "              negative    neutral     positive\n",
            "precision: [0.37924456 0.7053701  0.68893387]\n",
            "recall:    [0.76638396 0.49935782 0.64804824]\n",
            "f1 score:  [0.50740174 0.58474959 0.6678659 ]\n",
            "--------------------------------------------------\n",
            "              negative    neutral     positive\n",
            "precision: [0.37689848 0.68976323 0.67644085]\n",
            "recall:    [0.72706245 0.50873138 0.63714286]\n",
            "f1 score:  [0.49644643 0.58557493 0.65620402]\n",
            "--------------------------------------------------\n",
            "accuracy: 58.81% (+/- 0.67%)\n",
            "precision: 58.48% (+/- 0.42%)\n",
            "recall: 62.96% (+/- 0.52%)\n",
            "f1 score: 57.80% (+/- 0.60%)\n"
          ]
        }
      ],
      "source": [
        "lr_cv(5, df.clean_text, df.sentiment, NM2_pipeline, 'macro')\n"
      ]
    },
    {
      "cell_type": "markdown",
      "id": "elTgR9T6gyOo",
      "metadata": {
        "id": "elTgR9T6gyOo"
      },
      "source": [
        "### Near Miss 3"
      ]
    },
    {
      "cell_type": "code",
      "execution_count": null,
      "id": "rkXqy08Lg0bZ",
      "metadata": {
        "colab": {
          "base_uri": "https://localhost:8080/"
        },
        "id": "rkXqy08Lg0bZ",
        "outputId": "c0bcfaff-2ae8-474c-a040-179a03c4159e"
      },
      "outputs": [
        {
          "name": "stdout",
          "output_type": "stream",
          "text": [
            "              negative    neutral     positive\n",
            "precision: [0.45563674 0.69061489 0.64557721]\n",
            "recall:    [0.67309175 0.54816337 0.68327515]\n",
            "f1 score:  [0.54341737 0.61119863 0.66389146]\n",
            "--------------------------------------------------\n",
            "              negative    neutral     positive\n",
            "precision: [0.44405768 0.68429287 0.66145501]\n",
            "recall:    [0.68851195 0.56177755 0.65788639]\n",
            "f1 score:  [0.53990326 0.61701227 0.65966587]\n",
            "--------------------------------------------------\n",
            "              negative    neutral     positive\n",
            "precision: [0.44984955 0.69017713 0.64404688]\n",
            "recall:    [0.69159599 0.55047521 0.66264678]\n",
            "f1 score:  [0.54512306 0.6124607  0.65321445]\n",
            "--------------------------------------------------\n",
            "              negative    neutral     positive\n",
            "precision: [0.4449926  0.69025706 0.66708821]\n",
            "recall:    [0.69545104 0.55869509 0.66962869]\n",
            "f1 score:  [0.54271961 0.61754685 0.66835603]\n",
            "--------------------------------------------------\n",
            "              negative    neutral     positive\n",
            "precision: [0.43156843 0.67365662 0.64040158]\n",
            "recall:    [0.66615266 0.52799178 0.66825397]\n",
            "f1 score:  [0.52379509 0.59199539 0.65403138]\n",
            "--------------------------------------------------\n",
            "accuracy: 61.51% (+/- 0.67%)\n",
            "precision: 59.42% (+/- 0.65%)\n",
            "recall: 63.36% (+/- 0.68%)\n",
            "f1 score: 60.30% (+/- 0.68%)\n"
          ]
        }
      ],
      "source": [
        "lr_cv(5, df.clean_text, df.sentiment, NM3_pipeline, 'macro')\n"
      ]
    },
    {
      "cell_type": "code",
      "execution_count": null,
      "id": "IWbgl_iPg34S",
      "metadata": {
        "colab": {
          "base_uri": "https://localhost:8080/"
        },
        "id": "IWbgl_iPg34S",
        "outputId": "eaf5b0d7-e74c-433c-c371-f151b942617a"
      },
      "outputs": [
        {
          "name": "stdout",
          "output_type": "stream",
          "text": [
            "Distribution before NearMiss-3: Counter({'neutral': 19466, 'positive': 15754, 'negative': 6485})\n",
            "Distribution after NearMiss-3: Counter({'negative': 6485, 'neutral': 6485, 'positive': 6485})\n"
          ]
        }
      ],
      "source": [
        "from collections import Counter\n",
        "\n",
        "nm3 = NearMiss(sampling_strategy='not minority', version=3, n_neighbors_ver3=4)\n",
        "tvec = TfidfVectorizer(stop_words=None, max_features=100000, ngram_range=(1, 3))\n",
        "df_tfidf = tvec.fit_transform(df.clean_text)\n",
        "X_res, y_res = nm3.fit_resample(df_tfidf, df.sentiment)\n",
        "print('Distribution before NearMiss-3: {}'.format(Counter(df.sentiment)))\n",
        "print('Distribution after NearMiss-3: {}'.format(Counter(y_res)))"
      ]
    },
    {
      "cell_type": "code",
      "execution_count": null,
      "id": "tf2Ovy2SmnNy",
      "metadata": {
        "colab": {
          "base_uri": "https://localhost:8080/"
        },
        "id": "tf2Ovy2SmnNy",
        "outputId": "c87ef086-cacb-4aa0-b2a1-e835a2ce3f64"
      },
      "outputs": [
        {
          "name": "stdout",
          "output_type": "stream",
          "text": [
            "Distribution before NearMiss-2: Counter({'neutral': 19466, 'positive': 15754, 'negative': 6485})\n",
            "Distribution after NearMiss-2: Counter({'negative': 6485, 'neutral': 6485, 'positive': 6485})\n"
          ]
        }
      ],
      "source": [
        "from collections import Counter\n",
        "\n",
        "nm2 = NearMiss(sampling_strategy='not minority', version=2, n_neighbors_ver3=4)\n",
        "tvec = TfidfVectorizer(stop_words=None, max_features=100000, ngram_range=(1, 3))\n",
        "df_tfidf = tvec.fit_transform(df.clean_text)\n",
        "X_res, y_res = nm2.fit_resample(df_tfidf, df.sentiment)\n",
        "print('Distribution before NearMiss-2: {}'.format(Counter(df.sentiment)))\n",
        "print('Distribution after NearMiss-2: {}'.format(Counter(y_res)))"
      ]
    },
    {
      "cell_type": "code",
      "execution_count": null,
      "id": "F7EAmLH6KGSz",
      "metadata": {
        "colab": {
          "base_uri": "https://localhost:8080/"
        },
        "id": "F7EAmLH6KGSz",
        "outputId": "9dbf8a17-98db-4c77-f6b1-2f1625c20341"
      },
      "outputs": [
        {
          "name": "stdout",
          "output_type": "stream",
          "text": [
            "Distribution before NearMiss-1: Counter({'neutral': 19466, 'positive': 15754, 'negative': 6485})\n",
            "Distribution after NearMiss-1: Counter({'negative': 6485, 'neutral': 6485, 'positive': 6485})\n"
          ]
        }
      ],
      "source": [
        "from collections import Counter\n",
        "\n",
        "nm1 = NearMiss(sampling_strategy='not minority', version=1, n_neighbors_ver3=4)\n",
        "tvec = TfidfVectorizer(stop_words=None, max_features=100000, ngram_range=(1, 3))\n",
        "df_tfidf = tvec.fit_transform(df.clean_text)\n",
        "X_res, y_res = nm1.fit_resample(df_tfidf, df.sentiment)\n",
        "print('Distribution before NearMiss-1: {}'.format(Counter(df.sentiment)))\n",
        "print('Distribution after NearMiss-1: {}'.format(Counter(y_res)))"
      ]
    }
  ],
  "metadata": {
    "colab": {
      "name": "Final Project TM.ipynb",
      "provenance": []
    },
    "kernelspec": {
      "display_name": "Python 3 (ipykernel)",
      "language": "python",
      "name": "python3"
    },
    "language_info": {
      "codemirror_mode": {
        "name": "ipython",
        "version": 3
      },
      "file_extension": ".py",
      "mimetype": "text/x-python",
      "name": "python",
      "nbconvert_exporter": "python",
      "pygments_lexer": "ipython3",
      "version": "3.9.7"
    }
  },
  "nbformat": 4,
  "nbformat_minor": 5
}
